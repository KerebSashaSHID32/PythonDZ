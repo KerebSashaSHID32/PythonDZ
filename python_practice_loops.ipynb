{
  "cells": [
    {
      "cell_type": "markdown",
      "metadata": {
        "id": "bhnw_OBiped2"
      },
      "source": [
        "# I. range."
      ]
    },
    {
      "cell_type": "markdown",
      "metadata": {
        "id": "cS4sWGwctkLH"
      },
      "source": [
        "1. (4 бали) Створіть обʼєкт типу range, який буде містити послідовність цілих чисел від 0 до 9 включно. Виведіть його довжину (кількість значень)."
      ]
    },
    {
      "cell_type": "code",
      "execution_count": 3,
      "metadata": {
        "id": "1XFhN5gVte4X"
      },
      "outputs": [
        {
          "name": "stdout",
          "output_type": "stream",
          "text": [
            "[0, 1, 2, 3, 4, 5, 6, 7, 8, 9]\n"
          ]
        }
      ],
      "source": [
        "obj0 = range(0,10)\n",
        "print(list(obj0))"
      ]
    },
    {
      "cell_type": "markdown",
      "metadata": {
        "id": "VZ0Dh0m-t9tM"
      },
      "source": [
        "2. (5 балів) Створіть обʼєкт типу range, який буде містити послідовність цілих чисел (16, 13, 10, 7, 4, 1, -2, -5)"
      ]
    },
    {
      "cell_type": "code",
      "execution_count": 6,
      "metadata": {
        "id": "YavF1Agaoe8J"
      },
      "outputs": [
        {
          "name": "stdout",
          "output_type": "stream",
          "text": [
            "[16, 13, 10, 7, 4, 1, -2, -5]\n"
          ]
        }
      ],
      "source": [
        "obj1 = range(16,-8, -3)\n",
        "print(list(obj1))"
      ]
    },
    {
      "cell_type": "markdown",
      "metadata": {
        "id": "nBmE3_nMuavj"
      },
      "source": [
        "3. (4 бали) Створіть змінну зі значенням цілого типу. Перевірте, чи вона належить проміжку від 49 до 100 включно. Як ви гадаєте, для чого використовуються range?"
      ]
    },
    {
      "cell_type": "code",
      "execution_count": 10,
      "metadata": {
        "id": "5KmgBmOIuku4"
      },
      "outputs": [
        {
          "name": "stdout",
          "output_type": "stream",
          "text": [
            "No\n",
            "Yes\n"
          ]
        }
      ],
      "source": [
        "def is_in_range(num):\n",
        "    check = list(range(49, 101))\n",
        "    if num in check:\n",
        "        return \"Yes\"\n",
        "    else:\n",
        "        return \"No\"\n",
        "\n",
        "num0 = 34\n",
        "num1 = 67\n",
        "print(is_in_range(num0)) \n",
        "print(is_in_range(num1))  \n",
        "\n"
      ]
    },
    {
      "cell_type": "markdown",
      "metadata": {
        "id": "hZHtKQUJxDxj"
      },
      "source": [
        "range використовується для того щоб легко перерахувати всі числа в певному проміжку, можливо, з відступом"
      ]
    },
    {
      "cell_type": "markdown",
      "metadata": {
        "id": "56FjMkPatTD6"
      },
      "source": [
        "# II. Comprehensions."
      ]
    },
    {
      "cell_type": "markdown",
      "metadata": {
        "id": "AZyfyNfYvOyq"
      },
      "source": [
        "4. (6 балів) Створіть множину (set), використовуючи range та set comprehension."
      ]
    },
    {
      "cell_type": "code",
      "execution_count": 11,
      "metadata": {
        "id": "DE8oNYSUvNfR"
      },
      "outputs": [
        {
          "name": "stdout",
          "output_type": "stream",
          "text": [
            "{0, 1, 2, 3, 4, 5, 6, 7, 8, 9}\n"
          ]
        }
      ],
      "source": [
        "set0 = {x for x in range(10)}\n",
        "print(set0)"
      ]
    },
    {
      "cell_type": "markdown",
      "metadata": {
        "id": "5IsyYnolvWxJ"
      },
      "source": [
        "5. (8 балів) Створіть словник, використовуючи dict comprehension, що містить if else. Коли слід використовувати comprehensions, а коли їх слід уникати?"
      ]
    },
    {
      "cell_type": "code",
      "execution_count": 13,
      "metadata": {
        "id": "PTLiarj4vWVu"
      },
      "outputs": [
        {
          "name": "stdout",
          "output_type": "stream",
          "text": [
            "{1: 'odd', 2: 'even', 3: 'odd', 4: 'even', 5: 'odd', 6: 'even', 7: 'odd', 8: 'even', 9: 'odd', 10: 'even'}\n"
          ]
        }
      ],
      "source": [
        "dict0 = {x: 'even' if x % 2 == 0 else 'odd' for x in range(1, 11)}\n",
        "print(dict0)\n"
      ]
    },
    {
      "cell_type": "markdown",
      "metadata": {
        "id": "PcwgYcjdxYPA"
      },
      "source": [
        "Не варто використовувати comprehations коли вони вбивають читабельність коду. \n",
        "Їх використання виправдане при простих операціях і коли вираз краще записати в один рядок"
      ]
    },
    {
      "cell_type": "markdown",
      "metadata": {
        "id": "xPVEDwk6vfhU"
      },
      "source": [
        "6. (7 балів) Створіть список з рядками та запишіть його у змінну. Створіть ще один список на основі попереднього, де кожен рядок буде містити тільки три перших заглавних символи. Наприклад: ['hello', 'i', 'dont', 'care'] -> ['HEL', 'I', 'DON', 'CAR']"
      ]
    },
    {
      "cell_type": "code",
      "execution_count": 1,
      "metadata": {
        "id": "l1FAM69Owi7q"
      },
      "outputs": [
        {
          "name": "stdout",
          "output_type": "stream",
          "text": [
            "['HEL', 'I', 'DON', 'CAR']\n"
          ]
        }
      ],
      "source": [
        "list0 = ['hello', 'i', 'dont', 'care']\n",
        "list1 = [x[:3].upper() for x in list0]\n",
        "print(list1)"
      ]
    },
    {
      "cell_type": "markdown",
      "metadata": {
        "id": "9zEB8ekEtTnQ"
      },
      "source": [
        "# III. Цикли."
      ]
    },
    {
      "cell_type": "markdown",
      "metadata": {
        "id": "AlEfFe4Fwv8n"
      },
      "source": [
        "7. (6 балів) Продемонструйте роботу циклу while. Чи можна використовувати в умові циклу булеві значення? Чому?"
      ]
    },
    {
      "cell_type": "code",
      "execution_count": 4,
      "metadata": {
        "id": "kiDSbqo0wwMZ"
      },
      "outputs": [
        {
          "name": "stdout",
          "output_type": "stream",
          "text": [
            "0\n",
            "1\n",
            "2\n",
            "3\n",
            "4\n",
            "5\n",
            "6\n",
            "7\n",
            "8\n",
            "9\n",
            "10\n"
          ]
        }
      ],
      "source": [
        "count = 0\n",
        "while count <= 10:\n",
        "    print(count)\n",
        "    count += 1\n",
        "#True зробить цикл безкінеченим, що не завжди корисно\n",
        "#При False цикл не зробить ні одної ітерації\n",
        "#Тому використовувати можна тільки True"
      ]
    },
    {
      "cell_type": "markdown",
      "metadata": {
        "id": "J9TkD5_Cx3I1"
      },
      "source": [
        "8. (8 балів) Напишіть програму, яка виведе на екран непарні числа в діапазоні від 0 до 20 включно."
      ]
    },
    {
      "cell_type": "code",
      "execution_count": 8,
      "metadata": {
        "id": "5A1d-qvVx34B"
      },
      "outputs": [
        {
          "name": "stdout",
          "output_type": "stream",
          "text": [
            "1\n",
            "3\n",
            "5\n",
            "7\n",
            "9\n",
            "11\n",
            "13\n",
            "15\n",
            "17\n",
            "19\n"
          ]
        }
      ],
      "source": [
        "count1 = 0\n",
        "while count1 < 20:\n",
        "    if count1 % 2 == 1:\n",
        "        print(count1)\n",
        "    count1 += 1"
      ]
    },
    {
      "cell_type": "markdown",
      "metadata": {
        "id": "xN6Kfmqex4NU"
      },
      "source": [
        "9. (7 балів) Створіть список з елементами булевого типу або None. Використовуючи цикли, отримайте в результаті список з кортежами, де перший елемент кортежу - індекс(ціле число), а другий елемент - відповідне значення з першого списку.\n",
        "\n",
        "Наприклад, [True, True, None, False] -> [(0, True), (1, True), (2, None), (3, False)]"
      ]
    },
    {
      "cell_type": "code",
      "execution_count": 9,
      "metadata": {
        "id": "YhVlQnNIx405"
      },
      "outputs": [
        {
          "name": "stdout",
          "output_type": "stream",
          "text": [
            "[(0, True), (1, True), (2, None), (3, False)]\n"
          ]
        }
      ],
      "source": [
        "tflist = [True, True, None, False]\n",
        "list_with_corts = []\n",
        "for index, value in enumerate(tflist):\n",
        "    list_with_corts.append((index, value)) \n",
        "\n",
        "print(list_with_corts)\n"
      ]
    },
    {
      "cell_type": "markdown",
      "metadata": {
        "id": "cJNlWxHLx5mW"
      },
      "source": [
        "10. (10 балів) Створіть словник, де ключі - назви книжок, а значення - їхня кількість у наявності в Вашій міні-бібліотеці. Бібліотека має містити щонайменше 6 книжок (6 пар значень у словнику) і щонайбільше 10 (пар значень). Використовуючи цикли, оновіть словник (не створюйте новий) так, щоби кількість книг у наявності збільшилося на 5 кожної книги. Наприклад,\n",
        "{'It': 3, 'Fault stars': 10, 'Bible': 17, 'Psychological romance': 4, 'Harry Potter': 13} -> {'It': 8, 'Fault stars': 15, 'Bible': 22, 'Psychological romance': 9, 'Harry Potter': 18}"
      ]
    },
    {
      "cell_type": "code",
      "execution_count": 10,
      "metadata": {
        "id": "pI7I71ao0qh_"
      },
      "outputs": [
        {
          "name": "stdout",
          "output_type": "stream",
          "text": [
            "{'It': 8, 'Fault stars': 15, 'Bible': 22, 'Psychological romance': 9, 'Harry Potter': 18}\n"
          ]
        }
      ],
      "source": [
        "library = {\n",
        "    'It': 3,\n",
        "    'Fault stars': 10,\n",
        "    'Bible': 17,\n",
        "    'Psychological romance': 4,\n",
        "    'Harry Potter': 13\n",
        "}\n",
        "for book in library:\n",
        "    library[book] += 5\n",
        "\n",
        "print(library)"
      ]
    },
    {
      "cell_type": "markdown",
      "metadata": {
        "id": "qdZA6qi82GBa"
      },
      "source": [
        "11. (15 балів) Визначте цілочислену змінну n, що належить проміжку від 4 до 10 включно. Використовуючи цикли, виведіть в консоль наступний патерн.\n",
        "\n",
        "#\n",
        "##\n",
        "###\n",
        "####\n",
        "\n",
        "... #*n\n"
      ]
    },
    {
      "cell_type": "code",
      "execution_count": 12,
      "metadata": {
        "id": "aaHuUQHfx6YO"
      },
      "outputs": [
        {
          "name": "stdout",
          "output_type": "stream",
          "text": [
            "\n",
            "#\n",
            "##\n",
            "###\n",
            "####\n",
            "#####\n",
            "######\n",
            "#######\n",
            "########\n",
            "#########\n"
          ]
        }
      ],
      "source": [
        "n = 10\n",
        "\n",
        "for i in range(n):\n",
        "    print(\"#\" * i)"
      ]
    },
    {
      "cell_type": "markdown",
      "metadata": {
        "id": "XOniyaun74Ed"
      },
      "source": [
        "12. (20 балів) Гра \"Нумо вгадай\".\n",
        "Розробіть просту гру, де користувач має вгадати випадкове число від 1 до 100. Для генерації випадкового числа використовуйте функцію random.randint(a, b) (тут a та b включно). Для отримання числа з консолі використовуйте функцію input(), результат якої обовʼязково явно приведіть до типу int.\n",
        "\n",
        "Підказка: використовуйте цикл while та умови if-else, щоб повідомити користувачу піказки (напр. \"Більше\", \"Менше\") поки користувач не вгадає. По завершенню виведіть кількість спроб, які знадобилися для вгадування.\n"
      ]
    },
    {
      "cell_type": "code",
      "execution_count": null,
      "metadata": {
        "id": "iomCeUuW73NG"
      },
      "outputs": [],
      "source": [
        "import random\n",
        "\n",
        "number = random.randint(0,101)\n",
        "guessed = False\n",
        "tries = 0\n",
        "\n",
        "while not guessed:\n",
        "    while True:\n",
        "        try:\n",
        "            guess = int(input(\"Guess a number from 1 to 100:\\t\"))\n",
        "        except ValueError:\n",
        "            print(\"Please type an number\")\n",
        "            continue\n",
        "        if guess > 100:\n",
        "            print(\"Your number is too big\")\n",
        "            continue\n",
        "        break\n",
        "    if guess != number:\n",
        "        tries += 1\n",
        "        if guess < number:\n",
        "            print(\"No, bigger\")\n",
        "        if guess > number:\n",
        "            print(\"No, smaller\")\n",
        "    else:\n",
        "        print(f\"Congratulations, You win. Total number of tries:\\t{tries}\")\n",
        "        break\n",
        "\n",
        "    "
      ]
    },
    {
      "cell_type": "markdown",
      "metadata": {
        "id": "jTs-rqOptY2R"
      },
      "source": [
        "# Вітаю! Ви велика(ий) молодець, що впоралась(вся). Похваліть себе та побалуйте чимось приємним. Я Вами пишаюся."
      ]
    }
  ],
  "metadata": {
    "colab": {
      "provenance": []
    },
    "kernelspec": {
      "display_name": "Python 3",
      "name": "python3"
    },
    "language_info": {
      "codemirror_mode": {
        "name": "ipython",
        "version": 3
      },
      "file_extension": ".py",
      "mimetype": "text/x-python",
      "name": "python",
      "nbconvert_exporter": "python",
      "pygments_lexer": "ipython3",
      "version": "3.11.7"
    }
  },
  "nbformat": 4,
  "nbformat_minor": 0
}

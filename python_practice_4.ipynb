{
  "cells": [
    {
      "cell_type": "markdown",
      "metadata": {
        "id": "-xM96SkgLNxS"
      },
      "source": [
        "# I. Functions. Arguments."
      ]
    },
    {
      "cell_type": "markdown",
      "metadata": {
        "id": "RFkkDC1jikAI"
      },
      "source": [
        "0. (5б) Назвіть 4 частини, з яких складається визначення функції."
      ]
    },
    {
      "cell_type": "code",
      "execution_count": null,
      "metadata": {
        "id": "tV4xxWnFisqZ"
      },
      "outputs": [],
      "source": [
        "def name(arg):\n",
        "    #code\n",
        "    return arg\n",
        "# де def - це оголгшення функції\n",
        "# name - це її назва\n",
        "# code - це оючислення в самій функції\n",
        "# return - це те що повертає результат обчислень"
      ]
    },
    {
      "cell_type": "markdown",
      "metadata": {
        "id": "mg6qjOB2LbVs"
      },
      "source": [
        "1. (4б) Визначте функцію, що приймає 2 аргументи та повертає результат ділення 1го аргумента на інший."
      ]
    },
    {
      "cell_type": "code",
      "execution_count": 1,
      "metadata": {
        "id": "lUbA_FWjKxQD"
      },
      "outputs": [
        {
          "name": "stdout",
          "output_type": "stream",
          "text": [
            "3.0\n"
          ]
        }
      ],
      "source": [
        "def div(a,b):\n",
        "    return a/b\n",
        "\n",
        "print(div(6,2))"
      ]
    },
    {
      "cell_type": "markdown",
      "metadata": {
        "id": "wMAYj2KXLpiJ"
      },
      "source": [
        "2. (2б) Викличте вище визначену функцію, де другий аргумент дорівнює 0."
      ]
    },
    {
      "cell_type": "code",
      "execution_count": 2,
      "metadata": {
        "id": "103jJj32Lo4Y"
      },
      "outputs": [
        {
          "ename": "ZeroDivisionError",
          "evalue": "division by zero",
          "output_type": "error",
          "traceback": [
            "\u001b[1;31m---------------------------------------------------------------------------\u001b[0m",
            "\u001b[1;31mZeroDivisionError\u001b[0m                         Traceback (most recent call last)",
            "Cell \u001b[1;32mIn[2], line 1\u001b[0m\n\u001b[1;32m----> 1\u001b[0m \u001b[43mdiv\u001b[49m\u001b[43m(\u001b[49m\u001b[38;5;241;43m6\u001b[39;49m\u001b[43m,\u001b[49m\u001b[43m \u001b[49m\u001b[38;5;241;43m0\u001b[39;49m\u001b[43m)\u001b[49m\n",
            "Cell \u001b[1;32mIn[1], line 2\u001b[0m, in \u001b[0;36mdiv\u001b[1;34m(a, b)\u001b[0m\n\u001b[0;32m      1\u001b[0m \u001b[38;5;28;01mdef\u001b[39;00m \u001b[38;5;21mdiv\u001b[39m(a,b):\n\u001b[1;32m----> 2\u001b[0m     \u001b[38;5;28;01mreturn\u001b[39;00m \u001b[43ma\u001b[49m\u001b[38;5;241;43m/\u001b[39;49m\u001b[43mb\u001b[49m\n",
            "\u001b[1;31mZeroDivisionError\u001b[0m: division by zero"
          ]
        }
      ],
      "source": [
        "div(6, 0)"
      ]
    },
    {
      "cell_type": "markdown",
      "metadata": {
        "id": "eT-pwEwPMD3T"
      },
      "source": [
        "3. (6б) Перевизначте функцію так, щоби у випадку ділення на 0 функція повертала None, а в решті випадків - результат розрахунків."
      ]
    },
    {
      "cell_type": "code",
      "execution_count": 6,
      "metadata": {
        "id": "1h6Jz7CKMTk_"
      },
      "outputs": [
        {
          "name": "stdout",
          "output_type": "stream",
          "text": [
            "None\n",
            "2.5\n"
          ]
        }
      ],
      "source": [
        "def div(a,b):\n",
        "    if b == 0:\n",
        "        return None\n",
        "    else:\n",
        "        return a/b\n",
        "    \n",
        "print(div(6,0))\n",
        "print(div(5,2))"
      ]
    },
    {
      "cell_type": "markdown",
      "metadata": {
        "id": "iuTiofyDMVMG"
      },
      "source": [
        "4. (5б) Напишіть документацію (docstring) у форматі Google до функції, що має обчислювати суму двох чисел."
      ]
    },
    {
      "cell_type": "code",
      "execution_count": null,
      "metadata": {
        "id": "a9E6iU_iNyYQ"
      },
      "outputs": [],
      "source": [
        "\n",
        "\"\"\"Обчислює суму двох чисел\n",
        "Параметри:\n",
        "а - int, float\n",
        "b - int, float\n",
        "Вивід\n",
        "a + b - int, float\"\"\""
      ]
    },
    {
      "cell_type": "markdown",
      "metadata": {
        "id": "ZvrsUQZFN5VT"
      },
      "source": [
        "5. (4б) Реалізуйте цю функцію (із додаванням docstring у визначення функції)."
      ]
    },
    {
      "cell_type": "code",
      "execution_count": null,
      "metadata": {
        "id": "K5h3KTVuOBP3"
      },
      "outputs": [],
      "source": [
        "def sum(a,b):\n",
        "    \"\"\"Обчислює суму двох чисел\n",
        "    Параметри:\n",
        "    а - int, float\n",
        "    b - int, float\n",
        "    Вивід:\n",
        "    a + b - int, float\"\"\"\n",
        "\n",
        "    return a + b"
      ]
    },
    {
      "cell_type": "markdown",
      "metadata": {
        "id": "IILi2wfYOwYb"
      },
      "source": [
        "6. (6б) Визначте функцію, що віднімає одне число від іншого (підказка: це буде 2 аргументи функції). При чому, якщо не визначити, скільки саме має бути віднято від числа, за замовчуванням має відніматися 1. Викличте функцію, передаючи тільки один аргумент."
      ]
    },
    {
      "cell_type": "code",
      "execution_count": 7,
      "metadata": {
        "id": "hybHnk8ROvxQ"
      },
      "outputs": [
        {
          "name": "stdout",
          "output_type": "stream",
          "text": [
            "5\n",
            "1\n"
          ]
        }
      ],
      "source": [
        "def sub(a, b = 1):\n",
        "    return a - b\n",
        "\n",
        "print(sub(6))\n",
        "print(sub(4,3))"
      ]
    },
    {
      "cell_type": "markdown",
      "metadata": {
        "id": "UK6o8zcuR7cH"
      },
      "source": [
        "7. (10б) Визначте функцію, яка приймає iterable (ітерабельний обʼєкт, напр. список), що складається з 7ми рядкових значень - назв погодних умов (напр. \"sunny\") за кожен день у тижні. Повертає функція словник, де ключами є рядки з погодними умовами, а значеннями - кількість разів, скільки дана погода була протягом тижня (напр. {'sunny': 1, ...})."
      ]
    },
    {
      "cell_type": "code",
      "execution_count": 9,
      "metadata": {
        "id": "3gkR5gl0SyYO"
      },
      "outputs": [
        {
          "data": {
            "text/plain": [
              "{'sunny': 1, 'rain': 2, 'snow': 1, 'cloudy': 1, 'foggy': 2}"
            ]
          },
          "execution_count": 9,
          "metadata": {},
          "output_type": "execute_result"
        }
      ],
      "source": [
        "def weather(conditions):\n",
        "    weather_dict = {}\n",
        "    for condition in conditions:\n",
        "        if condition in weather_dict:\n",
        "            weather_dict[condition] += 1\n",
        "        else:\n",
        "            weather_dict[condition] = 1\n",
        "    return weather_dict\n",
        "\n",
        "cond = [\"sunny\", \"rain\", \"rain\", \"snow\", \"cloudy\", \"foggy\", \"foggy\"]\n",
        "weather(cond)"
      ]
    },
    {
      "cell_type": "markdown",
      "metadata": {
        "id": "x4zhem_2Syf7"
      },
      "source": [
        "8. (3б) Викличте цю функцію тричі з різними аргументами та виведіть результати на екран."
      ]
    },
    {
      "cell_type": "code",
      "execution_count": 11,
      "metadata": {
        "id": "B0agh7urS0Fc"
      },
      "outputs": [
        {
          "name": "stdout",
          "output_type": "stream",
          "text": [
            "{'snowy': 1, 'rainy': 4, 'sunny': 1, 'cloudy': 1}\n",
            "{'sunny': 2, 'cloudy': 2, 'snowy': 2, 'rainy': 1}\n",
            "{'cloudy': 3, 'sunny': 3, 'windy': 1}\n"
          ]
        }
      ],
      "source": [
        "import random\n",
        "\n",
        "weather_conditions_1 = [random.choice([\"sunny\", \"rainy\", \"cloudy\", \"snowy\", \"windy\"]) for _ in range(7)]\n",
        "weather_conditions_2 = [random.choice([\"sunny\", \"rainy\", \"cloudy\", \"snowy\", \"windy\"]) for _ in range(7)]\n",
        "weather_conditions_3 = [random.choice([\"sunny\", \"rainy\", \"cloudy\", \"snowy\", \"windy\"]) for _ in range(7)]\n",
        "\n",
        "print(weather(weather_conditions_1))\n",
        "print(weather(weather_conditions_2))\n",
        "print(weather(weather_conditions_3))\n"
      ]
    },
    {
      "cell_type": "markdown",
      "metadata": {
        "id": "bLgviTMlUlNG"
      },
      "source": [
        "9. (15б) Напишіть програму, яка б шукала необхідне число у **впорядкованому** списку цілочислених значень, де\n",
        "\n",
        "\n",
        "1.   число має вводитись з консолі.\n",
        "2.   власне алгоритм пошуку винесений в окрему функцію, яка повертає булеве значення (знайдено число - True, не знайдено - False).\n",
        "3. в залежності від результату функції, виведіть на екран повідомлення про успішний або ж неуспішний пошук.\n",
        "\n",
        "\n",
        "**Зауваження**: використовувати оператор **in** заборонено."
      ]
    },
    {
      "cell_type": "code",
      "execution_count": 13,
      "metadata": {
        "id": "LAHz6MmdcWfP"
      },
      "outputs": [
        {
          "name": "stdout",
          "output_type": "stream",
          "text": [
            "Число 30 знайдено у списку.\n"
          ]
        }
      ],
      "source": [
        "def binary_search(arr, x):\n",
        "    left, right = 0, len(arr) - 1\n",
        "\n",
        "    while left <= right:\n",
        "        mid = left + (right - left) // 2\n",
        "\n",
        "        if arr[mid] == x:\n",
        "            return True\n",
        "        \n",
        "        elif arr[mid] < x:\n",
        "            left = mid + 1\n",
        "        else:\n",
        "            right = mid - 1\n",
        "\n",
        "    return False\n",
        "\n",
        "l1 = [3, 6, 9, 12, 15, 18, 21, 24, 27, 30]\n",
        "\n",
        "number_to_find = int(input(\"Введіть число для пошуку: \"))\n",
        "\n",
        "found = binary_search(l1, number_to_find)\n",
        "if found:\n",
        "    print(f\"Число {number_to_find} знайдено у списку.\")\n",
        "else:\n",
        "    print(f\"Число {number_to_find} не знайдено у списку.\")\n"
      ]
    },
    {
      "cell_type": "markdown",
      "metadata": {
        "id": "wCKOEiKhLSld"
      },
      "source": [
        "# II. Lambda functions."
      ]
    },
    {
      "cell_type": "markdown",
      "metadata": {
        "id": "c4EBfW6QcXF7"
      },
      "source": [
        "10. (6б) Визначте анонімну функцію, що виконувала б завдання з задачі №1."
      ]
    },
    {
      "cell_type": "code",
      "execution_count": 14,
      "metadata": {
        "id": "sGgO6KjuhUj5"
      },
      "outputs": [
        {
          "data": {
            "text/plain": [
              "10"
            ]
          },
          "execution_count": 14,
          "metadata": {},
          "output_type": "execute_result"
        }
      ],
      "source": [
        "sum = lambda a, b: a+b\n",
        "sum(6,4)"
      ]
    },
    {
      "cell_type": "markdown",
      "metadata": {
        "id": "fWa0efmRhepO"
      },
      "source": [
        "11. (5б) В яких випадках варто використовувати лямбда-функції? "
      ]
    },
    {
      "cell_type": "markdown",
      "metadata": {
        "id": "R68BViaPhad_"
      },
      "source": [
        "*Їх доцільно використоуввати при невеликих розмірах функції*"
      ]
    },
    {
      "cell_type": "markdown",
      "metadata": {
        "id": "0CL6ikIkhU7j"
      },
      "source": [
        "12. (9б) Визначте список з рядками. Після цього визначте анонімну функцію для отримання першого символу у верхньому регістрі для кожного рядка списку.\n",
        "*Підказка*: використовуйте анонімну функцію в якості агрумента до вбудованої ф-ції, яка створена для застосування функцій над iterable обʼєктами.\n",
        "Результат виведіть на екран у вигляді кортежу."
      ]
    },
    {
      "cell_type": "code",
      "execution_count": 15,
      "metadata": {
        "id": "I1Lw2SSNhhJw"
      },
      "outputs": [
        {
          "name": "stdout",
          "output_type": "stream",
          "text": [
            "('O', 'D', 'T')\n"
          ]
        }
      ],
      "source": [
        "li = [\"odyn\", \"dva\", \"try\"]\n",
        "result = tuple(map(lambda li: li[0].upper(), li))\n",
        "\n",
        "print(result)"
      ]
    },
    {
      "cell_type": "markdown",
      "metadata": {
        "id": "rgGmGt67m5yi"
      },
      "source": [
        "# III. Decorators."
      ]
    },
    {
      "cell_type": "markdown",
      "metadata": {
        "id": "DZm1W0Qqncu8"
      },
      "source": [
        "13. (15б) Визначте декоратор, який би виводив у консоль повідомлення про початок роботи і назву функції, а після відпрацювання функції - повідомлення про закінчення роботи і назву функції, що задекорована."
      ]
    },
    {
      "cell_type": "code",
      "execution_count": 18,
      "metadata": {
        "id": "5s3X3F6soer0"
      },
      "outputs": [],
      "source": [
        "def my_decorator(func):\n",
        "    def wrapper(*args, **kwargs):\n",
        "        print(f\"Start of {func.__name__}\")\n",
        "        result = func(*args, **kwargs)\n",
        "        print(f\"End of {func.__name__}\")\n",
        "        return result\n",
        "    return wrapper"
      ]
    },
    {
      "cell_type": "markdown",
      "metadata": {
        "id": "AlGt40oVofHB"
      },
      "source": [
        "14. (7б) Задекоруйте функції з завдання 3, 5 та 6 декоратором із завдання 13. *Примітка*: продемонструйте 2 способи, як можна задекорувати функції (**УВАГА**: не декоруйте функції двічі!)."
      ]
    },
    {
      "cell_type": "code",
      "execution_count": 19,
      "metadata": {
        "id": "hkxhoRVqo1AW"
      },
      "outputs": [],
      "source": [
        "@my_decorator\n",
        "def div(a,b):\n",
        "    if b == 0:\n",
        "        return None\n",
        "    else:\n",
        "        return a/b\n",
        "\n",
        "dec_sum = my_decorator(sum)\n",
        "\n",
        "dec_sub = my_decorator(sub)\n"
      ]
    },
    {
      "cell_type": "markdown",
      "metadata": {
        "id": "6QkS0Kxzo4UR"
      },
      "source": [
        "15. (2б) Викличте одну з задекорованих функцій і виведіть її результат на екран."
      ]
    },
    {
      "cell_type": "code",
      "execution_count": 20,
      "metadata": {
        "id": "BCCCPai6o-y5"
      },
      "outputs": [
        {
          "name": "stdout",
          "output_type": "stream",
          "text": [
            "Start of sub\n",
            "End of sub\n"
          ]
        },
        {
          "data": {
            "text/plain": [
              "2"
            ]
          },
          "execution_count": 20,
          "metadata": {},
          "output_type": "execute_result"
        }
      ],
      "source": [
        "dec_sub(5,3)"
      ]
    },
    {
      "cell_type": "markdown",
      "metadata": {
        "id": "CSN0Q5pMQVNQ"
      },
      "source": [
        "# Вітаю! Ви велика(ий) молодець, що впоралась(вся). Похваліть себе та побалуйте чимось приємним. Я Вами пишаюся."
      ]
    }
  ],
  "metadata": {
    "colab": {
      "provenance": []
    },
    "kernelspec": {
      "display_name": "Python 3",
      "name": "python3"
    },
    "language_info": {
      "codemirror_mode": {
        "name": "ipython",
        "version": 3
      },
      "file_extension": ".py",
      "mimetype": "text/x-python",
      "name": "python",
      "nbconvert_exporter": "python",
      "pygments_lexer": "ipython3",
      "version": "3.11.7"
    }
  },
  "nbformat": 4,
  "nbformat_minor": 0
}
